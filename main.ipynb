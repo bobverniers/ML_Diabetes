{
 "cells": [
  {
   "cell_type": "markdown",
   "metadata": {},
   "source": []
  },
  {
   "cell_type": "markdown",
   "metadata": {},
   "source": [
    "## Explanation\n",
    "\n",
    "**NONE OF THE CODE IS GRADED**"
   ]
  },
  {
   "cell_type": "code",
   "execution_count": null,
   "metadata": {},
   "outputs": [],
   "source": [
    "# pip install pip install -r requirements.txt \n",
    "\n",
    "# Step a: Importing Libraries\n",
    "\n",
    "import pandas as pd              # For data manipulation and analysis\n",
    "import matplotlib.pyplot as plt  # For data visualization\n",
    "\n",
    "from sklearn.ensemble import RandomForestClassifier  # For feature importance analysis\n",
    "from sklearn.model_selection import train_test_split # For splitting the dataset\n",
    "\n",
    "import statsmodels.api as sm     # For logistic regression and statistical analysis\n"
   ]
  },
  {
   "cell_type": "code",
   "execution_count": null,
   "metadata": {},
   "outputs": [],
   "source": [
    "# assign the dataset to a variable !!! change the path to the location of the dataset on your machine!!!\n",
    "data = pd.read_csv('diabetes_merged.csv')\n",
    "\n",
    "# Preview the first few rows of the dataset\n",
    "print(\"First 5 rows of the dataset:\")\n",
    "display(data.head())\n",
    "\n",
    "# Check the shape (rows, columns)\n",
    "print(\"\\nDataset shape (rows, columns):\", data.shape)\n",
    "\n",
    "# Check column names\n",
    "print(\"\\nColumn names:\", data.columns.tolist())\n",
    "\n",
    "# Check the data types of each column\n",
    "print(\"\\nData types:\")\n",
    "display(data.dtypes)\n",
    "\n",
    "# Check for missing values\n",
    "print(\"\\nMissing values in each column:\")\n",
    "display(data.isnull().sum())\n",
    "\n",
    "# Get basic descriptive statistics\n",
    "print(\"\\nDescriptive statistics:\")\n",
    "display(data.describe())\n"
   ]
  },
  {
   "cell_type": "code",
   "execution_count": null,
   "metadata": {},
   "outputs": [],
   "source": [
    "# Check for missing values in each column\n",
    "print(\"Missing values per column:\")\n",
    "print(data.isnull().sum())"
   ]
  },
  {
   "cell_type": "markdown",
   "metadata": {},
   "source": [
    "**There are no missing values it seems like, making it easy**\n"
   ]
  },
  {
   "cell_type": "markdown",
   "metadata": {},
   "source": [
    "**HANDLING OUTLIERS**\n",
    "we chose to move the outliers to the bounds"
   ]
  },
  {
   "cell_type": "code",
   "execution_count": null,
   "metadata": {},
   "outputs": [],
   "source": [
    "import seaborn as sns\n",
    "import numpy as np\n",
    "import matplotlib.pyplot as plt\n",
    "\n",
    "# List of numeric columns (excluding the target 'Outcome')\n",
    "num_cols = ['Pregnancies', 'Glucose', 'BloodPressure', 'SkinThickness', \n",
    "            'Insulin', 'BMI', 'DiabetesPedigreeFunction', 'Age']\n",
    "\n",
    "for col in num_cols:\n",
    "    # 1. Visualize current distribution with a boxplot\n",
    "    plt.figure(figsize=(5, 3))\n",
    "    sns.boxplot(x=data[col], color='skyblue')\n",
    "    plt.title(f\"{col} - Boxplot Before Outlier Handling\")\n",
    "    plt.show()\n",
    "    \n",
    "    # 2. Calculate IQR, lower, and upper bounds\n",
    "    Q1 = data[col].quantile(0.25)\n",
    "    Q3 = data[col].quantile(0.75)\n",
    "    IQR = Q3 - Q1\n",
    "    \n",
    "    lower_bound = Q1 - 1.5 * IQR\n",
    "    upper_bound = Q3 + 1.5 * IQR\n",
    "    \n",
    "    print(f\"{col} lower bound: {lower_bound:.2f}, upper bound: {upper_bound:.2f}\")\n",
    "    \n",
    "    # 3. Cap (clip) the outliers\n",
    "    data[col] = np.where(data[col] < lower_bound, lower_bound, data[col])\n",
    "    data[col] = np.where(data[col] > upper_bound, upper_bound, data[col])\n",
    "    \n",
    "    # 4. Check the distribution again after capping\n",
    "    plt.figure(figsize=(5, 3))\n",
    "    sns.boxplot(x=data[col], color='lightgreen')\n",
    "    plt.title(f\"{col} - Boxplot After Outlier Handling\")\n",
    "    plt.show()\n",
    "\n",
    "print(\"Outlier handling complete.\")\n"
   ]
  },
  {
   "cell_type": "markdown",
   "metadata": {},
   "source": [
    "# Is data balanced?"
   ]
  },
  {
   "cell_type": "code",
   "execution_count": null,
   "metadata": {},
   "outputs": [],
   "source": [
    "# Count the occurrences of each class in the target variable\n",
    "class_counts = data['Outcome'].value_counts()\n",
    "print(\"Class distribution:\")\n",
    "print(class_counts)\n",
    "\n",
    "# Calculate the percentage of each class\n",
    "class_percentages = data['Outcome'].value_counts(normalize=True) * 100\n",
    "print(\"\\nClass percentages:\")\n",
    "print(class_percentages)\n",
    "\n",
    "# Visualize the distribution using a countplot\n",
    "import seaborn as sns\n",
    "import matplotlib.pyplot as plt\n",
    "\n",
    "sns.countplot(x='Outcome', data=data, palette='pastel')\n",
    "plt.title('Distribution of Outcome')\n",
    "plt.xlabel('Outcome')\n",
    "plt.ylabel('Count')\n",
    "plt.show()\n"
   ]
  },
  {
   "cell_type": "markdown",
   "metadata": {},
   "source": [
    "## After handling outliers, the next step is to prepare your data for modeling\n",
    "\n",
    "Separating Features and Target:\n",
    "Extract the independent variables (features) and the dependent variable (target).  drop the target column (e.g., Outcome) from the features.\n",
    "\n",
    "Splitting the Data:\n",
    "Divide dataset into training and testing sets. This helps train your model on one portion of the data and evaluate its performance on unseen data."
   ]
  },
  {
   "cell_type": "markdown",
   "metadata": {},
   "source": [
    "**DATA PROCESSING & SPLITTING**"
   ]
  },
  {
   "cell_type": "code",
   "execution_count": null,
   "metadata": {},
   "outputs": [],
   "source": [
    "# 'Outcome' is the target variable and all other columns are features ALSO THE DEPENDENT VARIABLE\n",
    "X = data.drop(\"Outcome\", axis=1)  # Extracting features by dropping the target column\n",
    "y = data[\"Outcome\"]               # Extracting the target variable\n",
    "\n",
    "# Print out the shapes of the resulting feature set and target\n",
    "print(\"Features shape (X):\", X.shape)\n",
    "print(\"Target shape (y):\", y.shape)"
   ]
  },
  {
   "cell_type": "markdown",
   "metadata": {},
   "source": [
    "**SPLITTING DATA FOR TRAINING**"
   ]
  },
  {
   "cell_type": "code",
   "execution_count": null,
   "metadata": {},
   "outputs": [],
   "source": [
    "from sklearn.model_selection import train_test_split\n",
    "\n",
    "# Split the data: 70% training and 30% testing\n",
    "X_train, X_test, y_train, y_test = train_test_split(\n",
    "    X, y, test_size=0.3, random_state=42\n",
    ")\n",
    "\n",
    "# Confirm the split by printing the shapes of the resulting datasets\n",
    "print(\"Training features shape:\", X_train.shape)\n",
    "print(\"Testing features shape:\", X_test.shape)\n",
    "print(\"Training target shape:\", y_train.shape)\n",
    "print(\"Testing target shape:\", y_test.shape)\n"
   ]
  },
  {
   "cell_type": "markdown",
   "metadata": {},
   "source": [
    "**check for 0 values**"
   ]
  },
  {
   "cell_type": "code",
   "execution_count": null,
   "metadata": {},
   "outputs": [],
   "source": [
    "data.head(5)"
   ]
  },
  {
   "cell_type": "code",
   "execution_count": null,
   "metadata": {},
   "outputs": [],
   "source": [
    "#checks for 0 values in the dataset as they are missing values, except in outcome\n",
    "\n",
    "print(\"Check how many other missing (zero) values\\n\")\n",
    "\n",
    "print(\"total number of rows: {}\".format(len(data)))\n",
    "print(\"number of rows missing Glucose: {}\".format(len(data.loc[data['Glucose'] == 0])))\n",
    "print(\"number of rows missing BloodPressure: {}\".format(len(data.loc[data['BloodPressure'] == 0])))\n",
    "print(\"number of rows missing SkinThickness: {}\".format(len(data.loc[data['SkinThickness'] == 0])))\n",
    "print(\"number of rows missing Insulin: {}\".format(len(data.loc[data['Insulin'] == 0])))\n",
    "print(\"number of rows missing BMI: {}\".format(len(data.loc[data['BMI'] == 0])))\n",
    "print(\"number of rows missing DiabetesPedigreeFunction: {}\".format(len(data.loc[data['DiabetesPedigreeFunction'] == 0])))\n",
    "print(\"number of rows missing Age: {}\".format(len(data.loc[data['Age'] == 0])))\n"
   ]
  },
  {
   "cell_type": "code",
   "execution_count": null,
   "metadata": {},
   "outputs": [],
   "source": [
    "# Columns in which a zero value is considered invalid (missing)\n",
    "columns_with_zero_missing = [\n",
    "    'Glucose', \n",
    "    'BloodPressure', \n",
    "    'SkinThickness', \n",
    "    'Insulin', \n",
    "    'BMI'\n",
    "]\n",
    "\n",
    "for col in columns_with_zero_missing:\n",
    "    # Calculate the mean of the column, excluding zeros\n",
    "    mean_value = data[data[col] != 0][col].mean()\n",
    "    \n",
    "    # Replace zeros with the calculated mean\n",
    "    data[col] = data[col].replace(0, mean_value)\n",
    "\n",
    "# Quick check to confirm no zeros remain in these columns\n",
    "for col in columns_with_zero_missing:\n",
    "    zero_count = (data[col] == 0).sum()\n",
    "    print(f\"Number of zeros in {col} after replacement: {zero_count}\")\n"
   ]
  },
  {
   "cell_type": "markdown",
   "metadata": {},
   "source": []
  },
  {
   "cell_type": "markdown",
   "metadata": {},
   "source": [
    "## Step D: Feature Importance Analysis with Random Forest\n",
    "\n",
    "Model Training:\n",
    "A RandomForestClassifier is created and trained using X_train and y_train.\n",
    "\n",
    "Extracting Importances:\n",
    "The feature_importances_ attribute gives a score for each feature. These scores indicate how much each feature contributes to the model’s predictions.\n",
    "\n",
    "Displaying the Results:\n",
    "A DataFrame is created to neatly display and sort the features by importance.\n",
    "\n",
    "Visualization:\n",
    "A horizontal bar chart is generated to visualize the feature importances, making it easier to compare the contribution of each feature.\n",
    "\n",
    "This step will help you understand which variables play the most significant roles in predicting diabetes. After this, you can move on to further analysis—like using logistic regression to statistically test the significance of specific features such as BMI."
   ]
  },
  {
   "cell_type": "code",
   "execution_count": null,
   "metadata": {},
   "outputs": [],
   "source": [
    "from sklearn.ensemble import RandomForestClassifier\n",
    "import matplotlib.pyplot as plt\n",
    "\n",
    "# Create and train a Random Forest Classifier using the training set\n",
    "rf = RandomForestClassifier(random_state=42)\n",
    "rf.fit(X_train, y_train)\n",
    "\n",
    "# Extract feature importances from the trained model\n",
    "feature_importances = rf.feature_importances_\n",
    "features = X.columns\n",
    "\n",
    "# Create a DataFrame to display and sort the feature importances\n",
    "importance_df = pd.DataFrame({\n",
    "    'Feature': features,\n",
    "    'Importance': feature_importances\n",
    "}).sort_values(by='Importance', ascending=False)\n",
    "\n",
    "print(\"Feature Importances:\")\n",
    "print(importance_df)\n",
    "\n",
    "# Visualize the feature importances with a horizontal bar chart\n",
    "plt.figure(figsize=(8, 6))\n",
    "plt.barh(importance_df['Feature'], importance_df['Importance'], color='skyblue')\n",
    "plt.xlabel(\"Feature Importance\")\n",
    "plt.ylabel(\"Feature\")\n",
    "plt.title(\"Feature Importance from Random Forest\")\n",
    "plt.gca().invert_yaxis()  # Display the most important feature at the top\n",
    "plt.tight_layout()\n",
    "plt.show()\n"
   ]
  },
  {
   "cell_type": "markdown",
   "metadata": {},
   "source": [
    "**still have to do linear regression and EVALUATION**"
   ]
  },
  {
   "cell_type": "markdown",
   "metadata": {},
   "source": []
  }
 ],
 "metadata": {
  "kernelspec": {
   "display_name": "PCA25",
   "language": "python",
   "name": "python3"
  },
  "language_info": {
   "codemirror_mode": {
    "name": "ipython",
    "version": 3
   },
   "file_extension": ".py",
   "mimetype": "text/x-python",
   "name": "python",
   "nbconvert_exporter": "python",
   "pygments_lexer": "ipython3",
   "version": "3.11.9"
  }
 },
 "nbformat": 4,
 "nbformat_minor": 2
}
