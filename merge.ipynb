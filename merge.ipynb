{
 "cells": [
  {
   "cell_type": "code",
   "execution_count": null,
   "metadata": {},
   "outputs": [
    {
     "name": "stdout",
     "output_type": "stream",
     "text": [
      "   age  glucose  bloodpressure   bmi  sex  serum-cholesterol  ld-lipoproteins  \\\n",
      "0   59       87          101.0  32.1  2.0              157.0             93.2   \n",
      "1   48       69           87.0  21.6  1.0              183.0            103.2   \n",
      "2   72       85           93.0  30.5  2.0              156.0             93.6   \n",
      "3   24       89           84.0  25.3  1.0              198.0            131.4   \n",
      "4   50       80          101.0  23.0  1.0              192.0            125.4   \n",
      "\n",
      "   hd-lipoproteins  cholesterol  serum-triglycerides  pregnancies  \\\n",
      "0             38.0          4.0               4.8598          0.0   \n",
      "1             70.0          3.0               3.8918          0.0   \n",
      "2             41.0          4.0               4.6728          0.0   \n",
      "3             40.0          5.0               4.8903          0.0   \n",
      "4             52.0          4.0               4.2905          0.0   \n",
      "\n",
      "   skinthickness  insulin  diabetespedigreefunction  outcome  \n",
      "0            0.0      0.0                       0.0      0.0  \n",
      "1            0.0      0.0                       0.0      0.0  \n",
      "2            0.0      0.0                       0.0      0.0  \n",
      "3            0.0      0.0                       0.0      0.0  \n",
      "4            0.0      0.0                       0.0      0.0  \n"
     ]
    }
   ],
   "source": [
    "import pandas as pd\n",
    "\n",
    "df1 = pd.read_csv(\"diabetes_data_raw.csv\")  # Dataset 1\n",
    "df2 = pd.read_csv(\"diabetes.csv\")  # Dataset 2\n",
    "df1.columns = df1.columns.str.lower()\n",
    "df2.columns = df2.columns.str.lower()\n",
    "\n",
    "common_features = [\"age\", \"glucose\", \"bloodpressure\", \"bmi\"]\n",
    "combined_df = pd.concat([df1, df2], ignore_index=True)\n",
    "\n",
    "all_features = list(combined_df.columns)\n",
    "other_features = [col for col in all_features if col not in common_features]\n",
    "ordered_columns = common_features + other_features\n",
    "combined_df = combined_df[ordered_columns]\n",
    "combined_df = combined_df.fillna(0)\n",
    "combined_df.to_csv(\"diabetes_merged.csv\", index=False)\n",
    "print(combined_df.head())\n"
   ]
  }
 ],
 "metadata": {
  "kernelspec": {
   "display_name": "PCA25",
   "language": "python",
   "name": "python3"
  },
  "language_info": {
   "codemirror_mode": {
    "name": "ipython",
    "version": 3
   },
   "file_extension": ".py",
   "mimetype": "text/x-python",
   "name": "python",
   "nbconvert_exporter": "python",
   "pygments_lexer": "ipython3",
   "version": "3.11.9"
  }
 },
 "nbformat": 4,
 "nbformat_minor": 2
}
